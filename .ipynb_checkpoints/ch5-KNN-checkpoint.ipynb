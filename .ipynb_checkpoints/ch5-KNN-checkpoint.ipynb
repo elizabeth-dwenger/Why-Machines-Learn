{
 "cells": [
  {
   "cell_type": "markdown",
   "id": "2ecca925-3510-4188-8b95-505b9201e78b",
   "metadata": {},
   "source": [
    "# K-Nearest Neighbors\n",
    "\n",
    "Why Machines Learn: Chapter 5"
   ]
  },
  {
   "cell_type": "code",
   "execution_count": 2,
   "id": "d05bd937-c291-45d6-8dc4-605d169a13e3",
   "metadata": {},
   "outputs": [
    {
     "name": "stdout",
     "output_type": "stream",
     "text": [
      "Collecting numpy\n",
      "  Downloading numpy-2.2.2-cp313-cp313-macosx_11_0_arm64.whl.metadata (116 kB)\n",
      "Downloading numpy-2.2.2-cp313-cp313-macosx_11_0_arm64.whl (14.1 MB)\n",
      "\u001b[2K   \u001b[90m━━━━━━━━━━━━━━━━━━━━━━━━━━━━━━━━━━━━━━━━\u001b[0m \u001b[32m14.1/14.1 MB\u001b[0m \u001b[31m1.4 MB/s\u001b[0m eta \u001b[36m0:00:00\u001b[0m00:01\u001b[0m00:01\u001b[0m\n",
      "Installing collected packages: numpy\n",
      "Successfully installed numpy-2.2.2\n",
      "\n",
      "\u001b[1m[\u001b[0m\u001b[34;49mnotice\u001b[0m\u001b[1;39;49m]\u001b[0m\u001b[39;49m A new release of pip is available: \u001b[0m\u001b[31;49m24.2\u001b[0m\u001b[39;49m -> \u001b[0m\u001b[32;49m25.0\u001b[0m\n",
      "\u001b[1m[\u001b[0m\u001b[34;49mnotice\u001b[0m\u001b[1;39;49m]\u001b[0m\u001b[39;49m To update, run: \u001b[0m\u001b[32;49mpip install --upgrade pip\u001b[0m\n",
      "Note: you may need to restart the kernel to use updated packages.\n"
     ]
    }
   ],
   "source": [
    "pip install numpy"
   ]
  },
  {
   "cell_type": "code",
   "execution_count": 3,
   "id": "7b9a3d89-646e-4af4-a730-f9f62d035eb9",
   "metadata": {},
   "outputs": [],
   "source": [
    "import numpy as np\n",
    "from collections import Counter"
   ]
  },
  {
   "cell_type": "markdown",
   "id": "2ece9b72-44b6-4ba4-901d-554db4750d8d",
   "metadata": {},
   "source": [
    "## Euclidean Distance\n",
    "\n",
    "$\\text{Euclidean Distance} = \\sqrt{\\sum_{i=1}^{n} (x_i - y_i)^2}$"
   ]
  },
  {
   "cell_type": "code",
   "execution_count": 4,
   "id": "6669cd8f-eb69-41ac-8317-275357747006",
   "metadata": {},
   "outputs": [],
   "source": [
    "class KNN:\n",
    "    def __init__(self, k=3): # k (int): Number of nearest neighbors\n",
    "        \"\"\"\n",
    "        Initialize k-NN classifier.\n",
    "        \"\"\"\n",
    "        self.k = k\n",
    "\n",
    "    def fit(self, X, y): # X: Training features, shape (n_samples, n_features); y: Training labels, shape (n_samples,)\n",
    "        \"\"\"\n",
    "        Store the training data.\n",
    "        \"\"\"\n",
    "        self.X_train = np.array(X)\n",
    "        self.y_train = np.array(y)\n",
    "\n",
    "    def predict(self, X): # X: Test features, shape (n_samples, n_features)\n",
    "        \"\"\"\n",
    "        Predict the class labels for the input data.\n",
    "\n",
    "        Returns: Predicted labels, shape (n_samples,).\n",
    "        \"\"\"\n",
    "        predictions = [self._predict(x) for x in X]\n",
    "        return np.array(predictions)\n",
    "\n",
    "    def _predict(self, x): # x: Test sample, shape (n_features,)\n",
    "        \"\"\"\n",
    "        Predict the label for a single sample.\n",
    "\n",
    "        Returns: Predicted label for the sample.\n",
    "        \"\"\"\n",
    "        distances = np.linalg.norm(self.X_train - x, axis=1) # Euclidean distance \n",
    "        # Find the k nearest neighbors\n",
    "        k_indices = np.argsort(distances)[:self.k]\n",
    "        k_nearest_labels = self.y_train[k_indices]\n",
    "        # Majority vote for the most common label\n",
    "        most_common = Counter(k_nearest_labels).most_common(1)\n",
    "        return most_common[0][0]"
   ]
  },
  {
   "cell_type": "code",
   "execution_count": 7,
   "id": "7bc39d4a-1703-4f7f-8915-ed2d3691a26f",
   "metadata": {},
   "outputs": [
    {
     "name": "stdout",
     "output_type": "stream",
     "text": [
      "Predictions: [0 0 1]\n"
     ]
    }
   ],
   "source": [
    "if __name__ == \"__main__\":\n",
    "    X_train = [[1, 2], [2, 3], [3, 4], [6, 7], [7, 8], [8, 9]]\n",
    "    y_train = [0, 0, 0, 1, 1, 1]\n",
    "\n",
    "    X_test = [[5, 5], [2, 2], [7, 7]]\n",
    "\n",
    "    k = 3\n",
    "    knn = KNN(k=k)\n",
    "    knn.fit(X_train, y_train)\n",
    "\n",
    "    predictions = knn.predict(X_test)\n",
    "    print(\"Predictions:\", predictions)"
   ]
  },
  {
   "cell_type": "markdown",
   "id": "152d1f5f-8d6f-46b1-995f-80babc24c24a",
   "metadata": {},
   "source": [
    "# Manhattan Distance\n",
    "\n",
    "$\n",
    "\\text{Manhattan Distance} = \\sum_{i=1}^{n} |x_i - y_i|\n",
    "$"
   ]
  },
  {
   "cell_type": "code",
   "execution_count": 8,
   "id": "06011bfb-72a9-459a-acf4-339877964cde",
   "metadata": {},
   "outputs": [],
   "source": [
    "import numpy as np\n",
    "from collections import Counter\n",
    "\n",
    "class KNN:\n",
    "    def __init__(self, k=2): # k: number of nn\n",
    "        \"\"\"\n",
    "        Initialize the k-NN classifier.\n",
    "        \"\"\"\n",
    "        self.k = k\n",
    "\n",
    "    def fit(self, X, y): # X: Training features, shape; y: Training labels, shape\n",
    "        \"\"\"\n",
    "        Store the training data.\n",
    "        \"\"\"\n",
    "        self.X_train = np.array(X)\n",
    "        self.y_train = np.array(y)\n",
    "\n",
    "    def predict(self, X): # X: Test features, shape (n_samples, n_features)\n",
    "        \"\"\"\n",
    "        Predict the class labels for the input data.\n",
    "        \n",
    "        Returns: Predicted labels, shape (n_samples,).\n",
    "        \"\"\"\n",
    "        predictions = [self._predict(x) for x in X]\n",
    "        return np.array(predictions)\n",
    "\n",
    "    def _predict(self, x): # x: Test sample, shape (n_features,)\n",
    "        \"\"\"\n",
    "        Predict the label for a single sample.\n",
    "\n",
    "        Returns: Predicted label for the sample.\n",
    "        \"\"\"\n",
    "        distances = np.sum(np.abs(self.X_train - x), axis=1) # Manhattan distance\n",
    "        k_indices = np.argsort(distances)[:self.k]\n",
    "        k_nearest_labels = self.y_train[k_indices]\n",
    "        most_common = Counter(k_nearest_labels).most_common(1)\n",
    "        return most_common[0][0]"
   ]
  },
  {
   "cell_type": "code",
   "execution_count": 9,
   "id": "2fe647ba-565f-42d6-99fb-ef2f73b35e5a",
   "metadata": {},
   "outputs": [
    {
     "name": "stdout",
     "output_type": "stream",
     "text": [
      "Predictions: [0 0 1]\n"
     ]
    }
   ],
   "source": [
    "if __name__ == \"__main__\":\n",
    "    X_train = [[1, 2], [2, 3], [3, 4], [6, 7], [7, 8], [8, 9]]\n",
    "    y_train = [0, 0, 0, 1, 1, 1]\n",
    "\n",
    "    X_test = [[5, 5], [2, 2], [7, 7]]\n",
    "\n",
    "    k = 2\n",
    "    knn = KNN(k=k)\n",
    "    knn.fit(X_train, y_train)\n",
    "\n",
    "    predictions = knn.predict(X_test)\n",
    "    print(\"Predictions:\", predictions)"
   ]
  },
  {
   "cell_type": "code",
   "execution_count": null,
   "id": "42b6adfa-a42e-416e-bd5c-1d264dd8b2b9",
   "metadata": {},
   "outputs": [],
   "source": []
  }
 ],
 "metadata": {
  "kernelspec": {
   "display_name": "Python 3 (ipykernel)",
   "language": "python",
   "name": "python3"
  },
  "language_info": {
   "codemirror_mode": {
    "name": "ipython",
    "version": 3
   },
   "file_extension": ".py",
   "mimetype": "text/x-python",
   "name": "python",
   "nbconvert_exporter": "python",
   "pygments_lexer": "ipython3",
   "version": "3.13.0"
  }
 },
 "nbformat": 4,
 "nbformat_minor": 5
}
