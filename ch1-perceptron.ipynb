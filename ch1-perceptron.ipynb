{
 "cells": [
  {
   "cell_type": "markdown",
   "id": "99b79f8c-11fc-4ec8-a29e-1a52a6869ce9",
   "metadata": {},
   "source": [
    "# Perceptron"
   ]
  },
  {
   "cell_type": "markdown",
   "id": "53fd0612-353a-49e7-8846-5a0d27eaa790",
   "metadata": {},
   "source": [
    "### 1. Decision Rule\n",
    "\n",
    "$\n",
    "\\hat{y} = \n",
    "\\begin{cases} \n",
    "+1 & \\text{if } \\mathbf{w} \\cdot \\mathbf{x} + b > 0 \\\\ \n",
    "-1 & \\text{otherwise} \n",
    "\\end{cases}\n",
    "$\n",
    "\n",
    "- $\\mathbf{x}$: Input feature vector $\\mathbf{x} \\in \\mathbb{R}^n$, where $n$ is the number of features.\n",
    "- $\\mathbf{w}$: Weight vector $\\mathbf{w} \\in \\mathbb{R}^n$, representing the model's learned weights for each feature.\n",
    "- $b$: Bias term, allowing the decision boundary to shift.\n",
    "- $\\mathbf{w} \\cdot \\mathbf{x}$: Dot product of the weight vector and input vector, representing the weighted sum of the inputs.\n",
    "- $\\hat{y}$: Predicted label, either +1 or -1.\n",
    "\n",
    "---\n",
    "\n",
    "#### 2. Learning Rule\n",
    "If the Perceptron misclassifies a sample $(\\mathbf{x}_i, y_i)$, it updates the weights and bias to correct the mistake.\n",
    "\n",
    "#### Update Rules:\n",
    "1. **Weights Update**:\n",
    "$\\mathbf{w} \\gets \\mathbf{w} + \\eta \\cdot y_i \\cdot \\mathbf{x}_i$\n",
    "\n",
    "2. **Bias Update**:\n",
    "$b \\gets b + \\eta \\cdot y_i$\n",
    "\n",
    "- $y_i$: True label of the i-th sample $( y_i \\in \\{-1, +1\\})$.\n",
    "- $\\mathbf{x}_i$: Feature vector of the i-th sample.\n",
    "- $\\eta$: Learning rate, controlling the step size of updates ( $\\eta > 0$ \\).\n",
    "\n",
    "---\n",
    "\n",
    "### 3. Objective\n",
    "The goal of the Perceptron is to find a hyperplane that correctly separates the two classes. The hyperplane is defined as:\n",
    "$\\mathbf{w} \\cdot \\mathbf{x} + b = 0$\n",
    "\n",
    "- The vector $\\mathbf{w}$ is **perpendicular** to the decision boundary.\n",
    "- The magnitude of b determines how far the hyperplane is from the origin.\n",
    "- The term $\\mathbf{w} \\cdot \\mathbf{x} + b$ gives the signed distance of a point $\\mathbf{x}$ from the hyperplane.\n",
    "\n",
    "---\n",
    "\n",
    "### 4. Algorithm Steps\n",
    "1. Initialize $\\mathbf{w} = \\mathbf{0}$ (or small random values) and b = 0.\n",
    "2. For each training sample $(\\mathbf{x}_i, y_i)$:\n",
    "   - Compute the prediction:\n",
    "     $\\hat{y}_i = \\text{sign}(\\mathbf{w} \\cdot \\mathbf{x}_i + b)$\n",
    "   - If $\\hat{y}_i \\neq y_i$ (misclassification), update:\n",
    "     $\\mathbf{w} \\gets \\mathbf{w} + \\eta \\cdot y_i \\cdot \\mathbf{x}_i$\n",
    "     $b \\gets b + \\eta \\cdot y_i$\n",
    "3. Repeat for a fixed number of iterations or until convergence.\n"
   ]
  },
  {
   "cell_type": "code",
   "execution_count": 1,
   "id": "86ed3b09-2e70-47c7-94f7-581980a2f876",
   "metadata": {},
   "outputs": [],
   "source": [
    "import numpy as np"
   ]
  },
  {
   "cell_type": "code",
   "execution_count": 2,
   "id": "ef1681e4-4f31-467e-be4d-acc7c427ef86",
   "metadata": {},
   "outputs": [],
   "source": [
    "class Perceptron:\n",
    "    def __init__(self, learning_rate=0.01, n_iterations=1000):\n",
    "        self.learning_rate = learning_rate\n",
    "        self.n_iterations = n_iterations\n",
    "        self.weights = None\n",
    "        self.bias = None\n",
    "\n",
    "    def fit(self, X, y): # X: Training data of shape (n_samples, n_features); y: Target labels of shape (n_samples,)\n",
    "        n_samples, n_features = X.shape\n",
    "        # Initialize weights and bias to zeros\n",
    "        self.weights = np.zeros(n_features)\n",
    "        self.bias = 0\n",
    "\n",
    "        # Convert labels to {-1, 1} if they are {0, 1}\n",
    "        y = np.where(y <= 0, -1, 1)\n",
    "\n",
    "        for _ in range(self.n_iterations):\n",
    "            for idx, x_i in enumerate(X):\n",
    "                # Compute the linear combination\n",
    "                linear_output = np.dot(x_i, self.weights) + self.bias\n",
    "                # Apply the step function (sign of the output)\n",
    "                y_predicted = np.sign(linear_output)\n",
    "\n",
    "                # Update weights and bias if prediction is wrong\n",
    "                if y[idx] * y_predicted <= 0:\n",
    "                    self.weights += self.learning_rate * y[idx] * x_i\n",
    "                    self.bias += self.learning_rate * y[idx]\n",
    "\n",
    "    def predict(self, X): # X: Input data of shape (n_samples, n_features)\n",
    "        linear_output = np.dot(X, self.weights) + self.bias\n",
    "        return np.sign(linear_output)\n"
   ]
  },
  {
   "cell_type": "code",
   "execution_count": 3,
   "id": "7deb5900-1915-4013-af7b-12acd011de41",
   "metadata": {},
   "outputs": [
    {
     "name": "stdout",
     "output_type": "stream",
     "text": [
      "Predictions: [-1. -1. -1.  1.]\n"
     ]
    }
   ],
   "source": [
    "if __name__ == \"__main__\":\n",
    "    # Example dataset: Logical AND gate\n",
    "    X = np.array([[0, 0], [0, 1], [1, 0], [1, 1]])\n",
    "    y = np.array([0, 0, 0, 1])  # AND gate output\n",
    "\n",
    "    perceptron = Perceptron(learning_rate=0.1, n_iterations=10)\n",
    "    perceptron.fit(X, y)\n",
    "\n",
    "    predictions = perceptron.predict(X)\n",
    "    print(\"Predictions:\", predictions)"
   ]
  },
  {
   "cell_type": "code",
   "execution_count": null,
   "id": "a623ca55-a82d-47bb-9a30-37afae860d14",
   "metadata": {},
   "outputs": [],
   "source": []
  }
 ],
 "metadata": {
  "kernelspec": {
   "display_name": "Python 3 (ipykernel)",
   "language": "python",
   "name": "python3"
  },
  "language_info": {
   "codemirror_mode": {
    "name": "ipython",
    "version": 3
   },
   "file_extension": ".py",
   "mimetype": "text/x-python",
   "name": "python",
   "nbconvert_exporter": "python",
   "pygments_lexer": "ipython3",
   "version": "3.13.0"
  }
 },
 "nbformat": 4,
 "nbformat_minor": 5
}
